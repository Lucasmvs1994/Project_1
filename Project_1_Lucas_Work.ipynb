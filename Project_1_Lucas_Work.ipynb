{
 "cells": [
  {
   "cell_type": "markdown",
   "id": "ed59b686",
   "metadata": {},
   "source": [
    "# Dependencies and Setup"
   ]
  },
  {
   "cell_type": "code",
   "execution_count": 49,
   "id": "9063f679",
   "metadata": {},
   "outputs": [],
   "source": [
    "import matplotlib.pyplot as plt\n",
    "import pandas as pd\n",
    "import scipy.stats as st\n",
    "from scipy.stats import linregress\n",
    "from scipy.stats import sem\n",
    "import numpy as np\n"
   ]
  },
  {
   "cell_type": "markdown",
   "id": "a9132cf2",
   "metadata": {},
   "source": [
    "# Crime data file"
   ]
  },
  {
   "cell_type": "code",
   "execution_count": 50,
   "id": "14b5bdc3",
   "metadata": {},
   "outputs": [],
   "source": [
    "# connecting to files\n",
    "crime_data_path = \"Output_data/COBRA-2009-2019.csv\""
   ]
  },
  {
   "cell_type": "code",
   "execution_count": 51,
   "id": "dda3b4a5",
   "metadata": {},
   "outputs": [
    {
     "name": "stderr",
     "output_type": "stream",
     "text": [
      "C:\\Users\\lucas.vianna\\Anaconda3\\lib\\site-packages\\IPython\\core\\interactiveshell.py:3165: DtypeWarning: Columns (3,11) have mixed types.Specify dtype option on import or set low_memory=False.\n",
      "  has_raised = await self.run_ast_nodes(code_ast.body, cell_name,\n"
     ]
    },
    {
     "data": {
      "text/html": [
       "<div>\n",
       "<style scoped>\n",
       "    .dataframe tbody tr th:only-of-type {\n",
       "        vertical-align: middle;\n",
       "    }\n",
       "\n",
       "    .dataframe tbody tr th {\n",
       "        vertical-align: top;\n",
       "    }\n",
       "\n",
       "    .dataframe thead th {\n",
       "        text-align: right;\n",
       "    }\n",
       "</style>\n",
       "<table border=\"1\" class=\"dataframe\">\n",
       "  <thead>\n",
       "    <tr style=\"text-align: right;\">\n",
       "      <th></th>\n",
       "      <th>Report Number</th>\n",
       "      <th>Report Date</th>\n",
       "      <th>Occur Date</th>\n",
       "      <th>Occur Time</th>\n",
       "      <th>Possible Date</th>\n",
       "      <th>Possible Time</th>\n",
       "      <th>Beat</th>\n",
       "      <th>Apartment Office Prefix</th>\n",
       "      <th>Apartment Number</th>\n",
       "      <th>Location</th>\n",
       "      <th>Shift Occurence</th>\n",
       "      <th>Location Type</th>\n",
       "      <th>UCR Literal</th>\n",
       "      <th>UCR #</th>\n",
       "      <th>IBR Code</th>\n",
       "      <th>Neighborhood</th>\n",
       "      <th>NPU</th>\n",
       "      <th>Latitude</th>\n",
       "      <th>Longitude</th>\n",
       "    </tr>\n",
       "  </thead>\n",
       "  <tbody>\n",
       "    <tr>\n",
       "      <th>0</th>\n",
       "      <td>90010930</td>\n",
       "      <td>2009-01-01</td>\n",
       "      <td>2009-01-01</td>\n",
       "      <td>1145</td>\n",
       "      <td>2009-01-01</td>\n",
       "      <td>1148.0</td>\n",
       "      <td>411.0</td>\n",
       "      <td>NaN</td>\n",
       "      <td>NaN</td>\n",
       "      <td>2841 GREENBRIAR PKWY</td>\n",
       "      <td>Day Watch</td>\n",
       "      <td>8</td>\n",
       "      <td>LARCENY-NON VEHICLE</td>\n",
       "      <td>630</td>\n",
       "      <td>2303</td>\n",
       "      <td>Greenbriar</td>\n",
       "      <td>R</td>\n",
       "      <td>33.68845</td>\n",
       "      <td>-84.49328</td>\n",
       "    </tr>\n",
       "    <tr>\n",
       "      <th>1</th>\n",
       "      <td>90011083</td>\n",
       "      <td>2009-01-01</td>\n",
       "      <td>2009-01-01</td>\n",
       "      <td>1330</td>\n",
       "      <td>2009-01-01</td>\n",
       "      <td>1330.0</td>\n",
       "      <td>511.0</td>\n",
       "      <td>NaN</td>\n",
       "      <td>NaN</td>\n",
       "      <td>12 BROAD ST SW</td>\n",
       "      <td>Day Watch</td>\n",
       "      <td>9</td>\n",
       "      <td>LARCENY-NON VEHICLE</td>\n",
       "      <td>630</td>\n",
       "      <td>2303</td>\n",
       "      <td>Downtown</td>\n",
       "      <td>M</td>\n",
       "      <td>33.75320</td>\n",
       "      <td>-84.39201</td>\n",
       "    </tr>\n",
       "    <tr>\n",
       "      <th>2</th>\n",
       "      <td>90011208</td>\n",
       "      <td>2009-01-01</td>\n",
       "      <td>2009-01-01</td>\n",
       "      <td>1500</td>\n",
       "      <td>2009-01-01</td>\n",
       "      <td>1520.0</td>\n",
       "      <td>407.0</td>\n",
       "      <td>NaN</td>\n",
       "      <td>NaN</td>\n",
       "      <td>3500 MARTIN L KING JR DR SW</td>\n",
       "      <td>Unknown</td>\n",
       "      <td>8</td>\n",
       "      <td>LARCENY-NON VEHICLE</td>\n",
       "      <td>630</td>\n",
       "      <td>2303</td>\n",
       "      <td>Adamsville</td>\n",
       "      <td>H</td>\n",
       "      <td>33.75735</td>\n",
       "      <td>-84.50282</td>\n",
       "    </tr>\n",
       "    <tr>\n",
       "      <th>3</th>\n",
       "      <td>90011218</td>\n",
       "      <td>2009-01-01</td>\n",
       "      <td>2009-01-01</td>\n",
       "      <td>1450</td>\n",
       "      <td>2009-01-01</td>\n",
       "      <td>1510.0</td>\n",
       "      <td>210.0</td>\n",
       "      <td>NaN</td>\n",
       "      <td>NaN</td>\n",
       "      <td>3393 PEACHTREE RD NE</td>\n",
       "      <td>Evening Watch</td>\n",
       "      <td>8</td>\n",
       "      <td>LARCENY-NON VEHICLE</td>\n",
       "      <td>630</td>\n",
       "      <td>2303</td>\n",
       "      <td>Lenox</td>\n",
       "      <td>B</td>\n",
       "      <td>33.84676</td>\n",
       "      <td>-84.36212</td>\n",
       "    </tr>\n",
       "    <tr>\n",
       "      <th>4</th>\n",
       "      <td>90011289</td>\n",
       "      <td>2009-01-01</td>\n",
       "      <td>2009-01-01</td>\n",
       "      <td>1600</td>\n",
       "      <td>2009-01-01</td>\n",
       "      <td>1700.0</td>\n",
       "      <td>411.0</td>\n",
       "      <td>NaN</td>\n",
       "      <td>NaN</td>\n",
       "      <td>2841 GREENBRIAR PKWY SW</td>\n",
       "      <td>Unknown</td>\n",
       "      <td>8</td>\n",
       "      <td>LARCENY-NON VEHICLE</td>\n",
       "      <td>630</td>\n",
       "      <td>2303</td>\n",
       "      <td>Greenbriar</td>\n",
       "      <td>R</td>\n",
       "      <td>33.68677</td>\n",
       "      <td>-84.49773</td>\n",
       "    </tr>\n",
       "  </tbody>\n",
       "</table>\n",
       "</div>"
      ],
      "text/plain": [
       "   Report Number Report Date  Occur Date Occur Time Possible Date  \\\n",
       "0       90010930  2009-01-01  2009-01-01       1145    2009-01-01   \n",
       "1       90011083  2009-01-01  2009-01-01       1330    2009-01-01   \n",
       "2       90011208  2009-01-01  2009-01-01       1500    2009-01-01   \n",
       "3       90011218  2009-01-01  2009-01-01       1450    2009-01-01   \n",
       "4       90011289  2009-01-01  2009-01-01       1600    2009-01-01   \n",
       "\n",
       "   Possible Time   Beat Apartment Office Prefix Apartment Number  \\\n",
       "0         1148.0  411.0                     NaN              NaN   \n",
       "1         1330.0  511.0                     NaN              NaN   \n",
       "2         1520.0  407.0                     NaN              NaN   \n",
       "3         1510.0  210.0                     NaN              NaN   \n",
       "4         1700.0  411.0                     NaN              NaN   \n",
       "\n",
       "                      Location Shift Occurence Location Type  \\\n",
       "0         2841 GREENBRIAR PKWY       Day Watch             8   \n",
       "1               12 BROAD ST SW       Day Watch             9   \n",
       "2  3500 MARTIN L KING JR DR SW         Unknown             8   \n",
       "3         3393 PEACHTREE RD NE   Evening Watch             8   \n",
       "4      2841 GREENBRIAR PKWY SW         Unknown             8   \n",
       "\n",
       "           UCR Literal  UCR # IBR Code Neighborhood NPU  Latitude  Longitude  \n",
       "0  LARCENY-NON VEHICLE    630     2303   Greenbriar   R  33.68845  -84.49328  \n",
       "1  LARCENY-NON VEHICLE    630     2303     Downtown   M  33.75320  -84.39201  \n",
       "2  LARCENY-NON VEHICLE    630     2303   Adamsville   H  33.75735  -84.50282  \n",
       "3  LARCENY-NON VEHICLE    630     2303        Lenox   B  33.84676  -84.36212  \n",
       "4  LARCENY-NON VEHICLE    630     2303   Greenbriar   R  33.68677  -84.49773  "
      ]
     },
     "execution_count": 51,
     "metadata": {},
     "output_type": "execute_result"
    }
   ],
   "source": [
    "crime_data_df = pd.read_csv(crime_data_path )\n",
    "\n",
    "crime_data_df.head()"
   ]
  },
  {
   "cell_type": "markdown",
   "id": "9ce5e98e",
   "metadata": {},
   "source": [
    "# Question 1 - Total number of crimes reported in the past ten years "
   ]
  },
  {
   "cell_type": "code",
   "execution_count": 52,
   "id": "c3bf4ec8",
   "metadata": {},
   "outputs": [
    {
     "data": {
      "text/plain": [
       "Report Number              342914\n",
       "Report Date                342914\n",
       "Occur Date                 342914\n",
       "Occur Time                 342914\n",
       "Possible Date              342896\n",
       "Possible Time              342895\n",
       "Beat                       342890\n",
       "Apartment Office Prefix     10094\n",
       "Apartment Number            68274\n",
       "Location                   342912\n",
       "Shift Occurence            342914\n",
       "Location Type              333698\n",
       "UCR Literal                342914\n",
       "UCR #                      342914\n",
       "IBR Code                   342744\n",
       "Neighborhood               330551\n",
       "NPU                        342775\n",
       "Latitude                   342914\n",
       "Longitude                  342914\n",
       "dtype: int64"
      ]
     },
     "execution_count": 52,
     "metadata": {},
     "output_type": "execute_result"
    }
   ],
   "source": [
    "crime_data_df.count()"
   ]
  },
  {
   "cell_type": "code",
   "execution_count": 53,
   "id": "1692e6a8",
   "metadata": {},
   "outputs": [
    {
     "data": {
      "text/plain": [
       "342609"
      ]
     },
     "execution_count": 53,
     "metadata": {},
     "output_type": "execute_result"
    }
   ],
   "source": [
    "crimes_reported = crime_data_df[\"Report Number\"].nunique()\n",
    "\n",
    "crimes_reported"
   ]
  },
  {
   "cell_type": "code",
   "execution_count": 54,
   "id": "edaebe3a",
   "metadata": {},
   "outputs": [
    {
     "name": "stdout",
     "output_type": "stream",
     "text": [
      "There were a total of 342609 crimes reported\n"
     ]
    }
   ],
   "source": [
    "print(\"There were a total of 342609 crimes reported\")"
   ]
  },
  {
   "cell_type": "markdown",
   "id": "057db856",
   "metadata": {},
   "source": [
    "# Question 2 - Total number of distinct crimes reported"
   ]
  },
  {
   "cell_type": "code",
   "execution_count": 55,
   "id": "eadde5ac",
   "metadata": {},
   "outputs": [
    {
     "data": {
      "text/plain": [
       "11"
      ]
     },
     "execution_count": 55,
     "metadata": {},
     "output_type": "execute_result"
    }
   ],
   "source": [
    "unique_crimes = crime_data_df[\"UCR Literal\"].nunique()\n",
    "\n",
    "unique_crimes"
   ]
  },
  {
   "cell_type": "markdown",
   "id": "020c340b",
   "metadata": {},
   "source": [
    "# Question 3 - Top 3 Crimes "
   ]
  },
  {
   "cell_type": "code",
   "execution_count": 56,
   "id": "b24de266",
   "metadata": {},
   "outputs": [],
   "source": [
    "# Group data by Crime\n",
    "\n",
    "crime_group = crime_data_df.groupby('UCR Literal')\n",
    "                                      \n",
    "                            "
   ]
  },
  {
   "cell_type": "code",
   "execution_count": 57,
   "id": "036b5df8",
   "metadata": {},
   "outputs": [
    {
     "data": {
      "text/html": [
       "<div>\n",
       "<style scoped>\n",
       "    .dataframe tbody tr th:only-of-type {\n",
       "        vertical-align: middle;\n",
       "    }\n",
       "\n",
       "    .dataframe tbody tr th {\n",
       "        vertical-align: top;\n",
       "    }\n",
       "\n",
       "    .dataframe thead th {\n",
       "        text-align: right;\n",
       "    }\n",
       "</style>\n",
       "<table border=\"1\" class=\"dataframe\">\n",
       "  <thead>\n",
       "    <tr style=\"text-align: right;\">\n",
       "      <th></th>\n",
       "      <th>Total Count</th>\n",
       "    </tr>\n",
       "    <tr>\n",
       "      <th>UCR Literal</th>\n",
       "      <th></th>\n",
       "    </tr>\n",
       "  </thead>\n",
       "  <tbody>\n",
       "    <tr>\n",
       "      <th>LARCENY-FROM VEHICLE</th>\n",
       "      <td>105630</td>\n",
       "    </tr>\n",
       "    <tr>\n",
       "      <th>LARCENY-NON VEHICLE</th>\n",
       "      <td>81942</td>\n",
       "    </tr>\n",
       "    <tr>\n",
       "      <th>BURGLARY-RESIDENCE</th>\n",
       "      <td>49577</td>\n",
       "    </tr>\n",
       "    <tr>\n",
       "      <th>AUTO THEFT</th>\n",
       "      <td>47067</td>\n",
       "    </tr>\n",
       "    <tr>\n",
       "      <th>AGG ASSAULT</th>\n",
       "      <td>25049</td>\n",
       "    </tr>\n",
       "    <tr>\n",
       "      <th>ROBBERY-PEDESTRIAN</th>\n",
       "      <td>17167</td>\n",
       "    </tr>\n",
       "    <tr>\n",
       "      <th>BURGLARY-NONRES</th>\n",
       "      <td>10950</td>\n",
       "    </tr>\n",
       "    <tr>\n",
       "      <th>ROBBERY-COMMERCIAL</th>\n",
       "      <td>2317</td>\n",
       "    </tr>\n",
       "    <tr>\n",
       "      <th>ROBBERY-RESIDENCE</th>\n",
       "      <td>2230</td>\n",
       "    </tr>\n",
       "    <tr>\n",
       "      <th>HOMICIDE</th>\n",
       "      <td>982</td>\n",
       "    </tr>\n",
       "    <tr>\n",
       "      <th>MANSLAUGHTER</th>\n",
       "      <td>3</td>\n",
       "    </tr>\n",
       "  </tbody>\n",
       "</table>\n",
       "</div>"
      ],
      "text/plain": [
       "                      Total Count\n",
       "UCR Literal                      \n",
       "LARCENY-FROM VEHICLE       105630\n",
       "LARCENY-NON VEHICLE         81942\n",
       "BURGLARY-RESIDENCE          49577\n",
       "AUTO THEFT                  47067\n",
       "AGG ASSAULT                 25049\n",
       "ROBBERY-PEDESTRIAN          17167\n",
       "BURGLARY-NONRES             10950\n",
       "ROBBERY-COMMERCIAL           2317\n",
       "ROBBERY-RESIDENCE            2230\n",
       "HOMICIDE                      982\n",
       "MANSLAUGHTER                    3"
      ]
     },
     "execution_count": 57,
     "metadata": {},
     "output_type": "execute_result"
    }
   ],
   "source": [
    "crime_group_df = pd.DataFrame({\"Total Count\": crime_group[\"Report Number\"].count()})\n",
    "crime_group_sorted_df = crime_group_df.sort_values(\"Total Count\", ascending=False)\n",
    "\n",
    "crime_group_sorted_df"
   ]
  },
  {
   "cell_type": "code",
   "execution_count": 58,
   "id": "8cf966fe",
   "metadata": {},
   "outputs": [
    {
     "data": {
      "image/png": "[encoded data removed]",
      "text/plain": [
       "<Figure size 432x288 with 1 Axes>"
      ]
     },
     "metadata": {
      "needs_background": "light"
     },
     "output_type": "display_data"
    }
   ],
   "source": [
    "bar_plot = crime_data_df['UCR Literal'].value_counts().plot.bar(width=0.9, zorder=3)\n",
    "\n",
    "# Set labels for axes\n",
    "bar_plot.set_xlabel(\"Crime\")\n",
    "bar_plot.set_ylabel(\"Total Count\")\n",
    "bar_plot.set_title(\"Count of Crimes Reported in Altanta from 2009 to 2019\")                   \n",
    "\n",
    "# Create a grid - using 'zorder' places grid behind the bars since we set their z-order higher\n",
    "bar_plot.grid(zorder=0)\n",
    "\n"
   ]
  },
  {
   "cell_type": "code",
   "execution_count": 59,
   "id": "fe3c0661",
   "metadata": {},
   "outputs": [
    {
     "name": "stdout",
     "output_type": "stream",
     "text": [
      "The top 3 crimes in Atlanta in the past 10 years are: Larceny-From Vehicle, Larceny-Non Vehicle, Burglary-Residence \n"
     ]
    }
   ],
   "source": [
    "print(\"The top 3 crimes in Atlanta in the past 10 years are: Larceny-From Vehicle, Larceny-Non Vehicle, Burglary-Residence \")"
   ]
  },
  {
   "cell_type": "markdown",
   "id": "95af538c",
   "metadata": {},
   "source": [
    "# Question 4 - Top 10 Dangerous Neighborhoods "
   ]
  },
  {
   "cell_type": "code",
   "execution_count": 60,
   "id": "688fe902",
   "metadata": {},
   "outputs": [],
   "source": [
    "# Group data by Neighborhood\n",
    "\n",
    "neighborhood_group = crime_data_df.groupby('Neighborhood')\n",
    "                                      \n",
    "       "
   ]
  },
  {
   "cell_type": "code",
   "execution_count": 61,
   "id": "ff2dd671",
   "metadata": {},
   "outputs": [
    {
     "data": {
      "text/html": [
       "<div>\n",
       "<style scoped>\n",
       "    .dataframe tbody tr th:only-of-type {\n",
       "        vertical-align: middle;\n",
       "    }\n",
       "\n",
       "    .dataframe tbody tr th {\n",
       "        vertical-align: top;\n",
       "    }\n",
       "\n",
       "    .dataframe thead th {\n",
       "        text-align: right;\n",
       "    }\n",
       "</style>\n",
       "<table border=\"1\" class=\"dataframe\">\n",
       "  <thead>\n",
       "    <tr style=\"text-align: right;\">\n",
       "      <th></th>\n",
       "      <th>Total Count</th>\n",
       "    </tr>\n",
       "    <tr>\n",
       "      <th>Neighborhood</th>\n",
       "      <th></th>\n",
       "    </tr>\n",
       "  </thead>\n",
       "  <tbody>\n",
       "    <tr>\n",
       "      <th>Downtown</th>\n",
       "      <td>25386</td>\n",
       "    </tr>\n",
       "    <tr>\n",
       "      <th>Midtown</th>\n",
       "      <td>18240</td>\n",
       "    </tr>\n",
       "    <tr>\n",
       "      <th>Old Fourth Ward</th>\n",
       "      <td>9945</td>\n",
       "    </tr>\n",
       "    <tr>\n",
       "      <th>West End</th>\n",
       "      <td>8506</td>\n",
       "    </tr>\n",
       "    <tr>\n",
       "      <th>Lenox</th>\n",
       "      <td>6203</td>\n",
       "    </tr>\n",
       "    <tr>\n",
       "      <th>North Buckhead</th>\n",
       "      <td>5651</td>\n",
       "    </tr>\n",
       "    <tr>\n",
       "      <th>Vine City</th>\n",
       "      <td>5506</td>\n",
       "    </tr>\n",
       "    <tr>\n",
       "      <th>Greenbriar</th>\n",
       "      <td>5487</td>\n",
       "    </tr>\n",
       "    <tr>\n",
       "      <th>Sylvan Hills</th>\n",
       "      <td>5451</td>\n",
       "    </tr>\n",
       "    <tr>\n",
       "      <th>Grant Park</th>\n",
       "      <td>5293</td>\n",
       "    </tr>\n",
       "  </tbody>\n",
       "</table>\n",
       "</div>"
      ],
      "text/plain": [
       "                 Total Count\n",
       "Neighborhood                \n",
       "Downtown               25386\n",
       "Midtown                18240\n",
       "Old Fourth Ward         9945\n",
       "West End                8506\n",
       "Lenox                   6203\n",
       "North Buckhead          5651\n",
       "Vine City               5506\n",
       "Greenbriar              5487\n",
       "Sylvan Hills            5451\n",
       "Grant Park              5293"
      ]
     },
     "execution_count": 61,
     "metadata": {},
     "output_type": "execute_result"
    }
   ],
   "source": [
    "neighborhood_group_df = pd.DataFrame({\"Total Count\": neighborhood_group[\"Report Number\"].count()})\n",
    "neighborhood_group_sorted_df = neighborhood_group_df.sort_values(\"Total Count\", ascending=False)\n",
    "\n",
    "neighborhood_group_sorted_df.head(10)"
   ]
  },
  {
   "cell_type": "code",
   "execution_count": 62,
   "id": "69a87c28",
   "metadata": {},
   "outputs": [
    {
     "data": {
      "text/html": [
       "<div>\n",
       "<style scoped>\n",
       "    .dataframe tbody tr th:only-of-type {\n",
       "        vertical-align: middle;\n",
       "    }\n",
       "\n",
       "    .dataframe tbody tr th {\n",
       "        vertical-align: top;\n",
       "    }\n",
       "\n",
       "    .dataframe thead th {\n",
       "        text-align: right;\n",
       "    }\n",
       "</style>\n",
       "<table border=\"1\" class=\"dataframe\">\n",
       "  <thead>\n",
       "    <tr style=\"text-align: right;\">\n",
       "      <th></th>\n",
       "      <th>Total Count</th>\n",
       "    </tr>\n",
       "    <tr>\n",
       "      <th>Neighborhood</th>\n",
       "      <th></th>\n",
       "    </tr>\n",
       "  </thead>\n",
       "  <tbody>\n",
       "    <tr>\n",
       "      <th>Downtown</th>\n",
       "      <td>25386</td>\n",
       "    </tr>\n",
       "    <tr>\n",
       "      <th>Midtown</th>\n",
       "      <td>18240</td>\n",
       "    </tr>\n",
       "    <tr>\n",
       "      <th>Old Fourth Ward</th>\n",
       "      <td>9945</td>\n",
       "    </tr>\n",
       "    <tr>\n",
       "      <th>West End</th>\n",
       "      <td>8506</td>\n",
       "    </tr>\n",
       "    <tr>\n",
       "      <th>Lenox</th>\n",
       "      <td>6203</td>\n",
       "    </tr>\n",
       "    <tr>\n",
       "      <th>North Buckhead</th>\n",
       "      <td>5651</td>\n",
       "    </tr>\n",
       "    <tr>\n",
       "      <th>Vine City</th>\n",
       "      <td>5506</td>\n",
       "    </tr>\n",
       "    <tr>\n",
       "      <th>Greenbriar</th>\n",
       "      <td>5487</td>\n",
       "    </tr>\n",
       "    <tr>\n",
       "      <th>Sylvan Hills</th>\n",
       "      <td>5451</td>\n",
       "    </tr>\n",
       "    <tr>\n",
       "      <th>Grant Park</th>\n",
       "      <td>5293</td>\n",
       "    </tr>\n",
       "  </tbody>\n",
       "</table>\n",
       "</div>"
      ],
      "text/plain": [
       "                 Total Count\n",
       "Neighborhood                \n",
       "Downtown               25386\n",
       "Midtown                18240\n",
       "Old Fourth Ward         9945\n",
       "West End                8506\n",
       "Lenox                   6203\n",
       "North Buckhead          5651\n",
       "Vine City               5506\n",
       "Greenbriar              5487\n",
       "Sylvan Hills            5451\n",
       "Grant Park              5293"
      ]
     },
     "execution_count": 62,
     "metadata": {},
     "output_type": "execute_result"
    }
   ],
   "source": [
    "top_neighborhoods_df = neighborhood_group_sorted_df.head(10)\n",
    "\n",
    "top_neighborhoods_df"
   ]
  },
  {
   "cell_type": "code",
   "execution_count": 63,
   "id": "5b846bab",
   "metadata": {},
   "outputs": [
    {
     "data": {
      "image/png": "[encoded data removed]",
      "text/plain": [
       "<Figure size 432x288 with 1 Axes>"
      ]
     },
     "metadata": {
      "needs_background": "light"
     },
     "output_type": "display_data"
    }
   ],
   "source": [
    "bar_plot = top_neighborhoods_df['Total Count'].plot.bar(width=0.9, zorder=3)\n",
    "\n",
    "# Set labels for axes\n",
    "bar_plot.set_xlabel(\"Neighborhood\")\n",
    "bar_plot.set_ylabel(\"Total Count\")\n",
    "bar_plot.set_title(\"Top 10 dangerous neighborhoods in Atlanta by crime count...Downtown had the most number of crimes reported from 2009 to 2019\")                   \n",
    "\n",
    "# Create a grid - using 'zorder' places grid behind the bars since we set their z-order higher\n",
    "bar_plot.grid(zorder=0)\n",
    "\n"
   ]
  },
  {
   "cell_type": "markdown",
   "id": "39b79a9b",
   "metadata": {},
   "source": [
    "# Question 5 - Top 10 Safest Neighborhoods"
   ]
  },
  {
   "cell_type": "code",
   "execution_count": 64,
   "id": "3c6373de",
   "metadata": {},
   "outputs": [
    {
     "data": {
      "text/html": [
       "<div>\n",
       "<style scoped>\n",
       "    .dataframe tbody tr th:only-of-type {\n",
       "        vertical-align: middle;\n",
       "    }\n",
       "\n",
       "    .dataframe tbody tr th {\n",
       "        vertical-align: top;\n",
       "    }\n",
       "\n",
       "    .dataframe thead th {\n",
       "        text-align: right;\n",
       "    }\n",
       "</style>\n",
       "<table border=\"1\" class=\"dataframe\">\n",
       "  <thead>\n",
       "    <tr style=\"text-align: right;\">\n",
       "      <th></th>\n",
       "      <th>Total Count</th>\n",
       "    </tr>\n",
       "    <tr>\n",
       "      <th>Neighborhood</th>\n",
       "      <th></th>\n",
       "    </tr>\n",
       "  </thead>\n",
       "  <tbody>\n",
       "    <tr>\n",
       "      <th>Englewood Manor</th>\n",
       "      <td>2</td>\n",
       "    </tr>\n",
       "    <tr>\n",
       "      <th>State Facility</th>\n",
       "      <td>5</td>\n",
       "    </tr>\n",
       "    <tr>\n",
       "      <th>Edmund Park</th>\n",
       "      <td>7</td>\n",
       "    </tr>\n",
       "    <tr>\n",
       "      <th>Old Fairburn Village</th>\n",
       "      <td>11</td>\n",
       "    </tr>\n",
       "    <tr>\n",
       "      <th>Mt. Paran Parkway</th>\n",
       "      <td>12</td>\n",
       "    </tr>\n",
       "    <tr>\n",
       "      <th>Chattahoochee</th>\n",
       "      <td>14</td>\n",
       "    </tr>\n",
       "    <tr>\n",
       "      <th>Regency Trace</th>\n",
       "      <td>20</td>\n",
       "    </tr>\n",
       "    <tr>\n",
       "      <th>Horseshoe Community</th>\n",
       "      <td>25</td>\n",
       "    </tr>\n",
       "    <tr>\n",
       "      <th>Bankhead Courts</th>\n",
       "      <td>30</td>\n",
       "    </tr>\n",
       "    <tr>\n",
       "      <th>Fort McPherson</th>\n",
       "      <td>32</td>\n",
       "    </tr>\n",
       "  </tbody>\n",
       "</table>\n",
       "</div>"
      ],
      "text/plain": [
       "                      Total Count\n",
       "Neighborhood                     \n",
       "Englewood Manor                 2\n",
       "State Facility                  5\n",
       "Edmund Park                     7\n",
       "Old Fairburn Village           11\n",
       "Mt. Paran Parkway              12\n",
       "Chattahoochee                  14\n",
       "Regency Trace                  20\n",
       "Horseshoe Community            25\n",
       "Bankhead Courts                30\n",
       "Fort McPherson                 32"
      ]
     },
     "execution_count": 64,
     "metadata": {},
     "output_type": "execute_result"
    }
   ],
   "source": [
    "neighborhood_group_df = pd.DataFrame({\"Total Count\": neighborhood_group[\"Report Number\"].count()})\n",
    "neighborhood_group_sorted1_df = neighborhood_group_df.sort_values(\"Total Count\")\n",
    "\n",
    "neighborhood_group_sorted1_df.head(10)"
   ]
  },
  {
   "cell_type": "code",
   "execution_count": 65,
   "id": "0770697f",
   "metadata": {},
   "outputs": [
    {
     "data": {
      "image/png": "[encoded data removed]",
      "text/plain": [
       "<Figure size 432x288 with 1 Axes>"
      ]
     },
     "metadata": {
      "needs_background": "light"
     },
     "output_type": "display_data"
    }
   ],
   "source": [
    "safest_neighborhoods_df = neighborhood_group_sorted1_df.head(10)\n",
    "\n",
    "\n",
    "bar1_plot = safest_neighborhoods_df['Total Count'].plot.bar(width=0.9, zorder=3)\n",
    "\n",
    "# Set labels for axes\n",
    "bar1_plot.set_xlabel(\"Neighborhood\")\n",
    "bar1_plot.set_ylabel(\"Total Count\")\n",
    "bar1_plot.set_title(\"Top 10 safest neighborhoods in Atlanta by crime count ...Englewood Manor had the fewest count of crimes reported in the past 10 years\")                   \n",
    "\n",
    "# Create a grid - using 'zorder' places grid behind the bars since we set their z-order higher\n",
    "bar1_plot.grid(zorder=0)"
   ]
  },
  {
   "cell_type": "markdown",
   "id": "2f047edc",
   "metadata": {},
   "source": [
    "# Question 6 - Shift Occurrence with the most crimes reported "
   ]
  },
  {
   "cell_type": "code",
   "execution_count": 66,
   "id": "f462bd08",
   "metadata": {},
   "outputs": [
    {
     "data": {
      "text/plain": [
       "Evening Watch    145812\n",
       "Day Watch        115257\n",
       "Morning Watch     73510\n",
       "Unknown            8335\n",
       "Name: Shift Occurence, dtype: int64"
      ]
     },
     "execution_count": 66,
     "metadata": {},
     "output_type": "execute_result"
    }
   ],
   "source": [
    "shift_data_analysis = crime_data_df[\"Shift Occurence\"].value_counts()\n",
    "\n",
    "shift_data_analysis"
   ]
  },
  {
   "cell_type": "code",
   "execution_count": 97,
   "id": "ac27edb2",
   "metadata": {},
   "outputs": [
    {
     "data": {
      "image/png": "[encoded data removed]",
      "text/plain": [
       "<Figure size 432x288 with 1 Axes>"
      ]
     },
     "metadata": {},
     "output_type": "display_data"
    }
   ],
   "source": [
    "explode = (0.1, 0, 0, 0.05)\n",
    "shift_pie = shift_data_analysis.plot(kind='pie', explode=explode,autopct='%1.1f%%',shadow=True, startangle=60) \n",
    "plt.title('Distribution of crimes by shift ocurrence')\n",
    "shift_pie.set_ylabel('')\n",
    "\n",
    "plt.show()\n"
   ]
  },
  {
   "cell_type": "markdown",
   "id": "3d08a4b3",
   "metadata": {},
   "source": []
  },
  {
   "cell_type": "markdown",
   "id": "577cb283",
   "metadata": {},
   "source": [
    "# Summary of Findings "
   ]
  },
  {
   "cell_type": "code",
   "execution_count": 68,
   "id": "74fc686a",
   "metadata": {},
   "outputs": [
    {
     "data": {
      "text/html": [
       "<div>\n",
       "<style scoped>\n",
       "    .dataframe tbody tr th:only-of-type {\n",
       "        vertical-align: middle;\n",
       "    }\n",
       "\n",
       "    .dataframe tbody tr th {\n",
       "        vertical-align: top;\n",
       "    }\n",
       "\n",
       "    .dataframe thead th {\n",
       "        text-align: right;\n",
       "    }\n",
       "</style>\n",
       "<table border=\"1\" class=\"dataframe\">\n",
       "  <thead>\n",
       "    <tr style=\"text-align: right;\">\n",
       "      <th></th>\n",
       "      <th>Research Questions</th>\n",
       "      <th>Findings</th>\n",
       "    </tr>\n",
       "  </thead>\n",
       "  <tbody>\n",
       "    <tr>\n",
       "      <th>0</th>\n",
       "      <td>Total number of crimes reported</td>\n",
       "      <td>342,609</td>\n",
       "    </tr>\n",
       "    <tr>\n",
       "      <th>1</th>\n",
       "      <td>Total number of distinct crimes</td>\n",
       "      <td>11</td>\n",
       "    </tr>\n",
       "    <tr>\n",
       "      <th>2</th>\n",
       "      <td>Top 3 crimes</td>\n",
       "      <td>Larceny-From Vehicle, Larceny-Non Vehicle, Bur...</td>\n",
       "    </tr>\n",
       "    <tr>\n",
       "      <th>3</th>\n",
       "      <td>Top 10 dangerous neighborhoods</td>\n",
       "      <td>Downtown, Midtown, Old Fourth Ward, West End,...</td>\n",
       "    </tr>\n",
       "    <tr>\n",
       "      <th>4</th>\n",
       "      <td>Top 10 safest neighborhoods</td>\n",
       "      <td>Englewood Manor, State Facility, Edmund Park, ...</td>\n",
       "    </tr>\n",
       "    <tr>\n",
       "      <th>5</th>\n",
       "      <td>Shift occurrence with the most crimes</td>\n",
       "      <td>Evening Watch</td>\n",
       "    </tr>\n",
       "  </tbody>\n",
       "</table>\n",
       "</div>"
      ],
      "text/plain": [
       "                       Research Questions  \\\n",
       "0        Total number of crimes reported    \n",
       "1        Total number of distinct crimes    \n",
       "2                            Top 3 crimes   \n",
       "3          Top 10 dangerous neighborhoods   \n",
       "4             Top 10 safest neighborhoods   \n",
       "5  Shift occurrence with the most crimes    \n",
       "\n",
       "                                            Findings  \n",
       "0                                            342,609  \n",
       "1                                                 11  \n",
       "2  Larceny-From Vehicle, Larceny-Non Vehicle, Bur...  \n",
       "3   Downtown, Midtown, Old Fourth Ward, West End,...  \n",
       "4  Englewood Manor, State Facility, Edmund Park, ...  \n",
       "5                                      Evening Watch  "
      ]
     },
     "execution_count": 68,
     "metadata": {},
     "output_type": "execute_result"
    }
   ],
   "source": [
    "summary_findings_df = pd.DataFrame({\n",
    "    \n",
    "    \"Research Questions\":[\"Total number of crimes reported \", \"Total number of distinct crimes \", \"Top 3 crimes\", \"Top 10 dangerous neighborhoods\", \"Top 10 safest neighborhoods\", \"Shift occurrence with the most crimes \" ],\n",
    "    \n",
    "    \"Findings\":[\"342,609\", \"11\", \"Larceny-From Vehicle, Larceny-Non Vehicle, Burglary-Residence\", \" Downtown, Midtown, Old Fourth Ward, West End, Lenox, North Buckhead, Vine City, Greenbriar, Sylvan, Grant Park\", \"Englewood Manor, State Facility, Edmund Park, Old Fairburn Village, Mt. Paran Parkway, Chattahoochee, Regency Trace, Horseshoe Community, Bankhead Courts, Fort McPherson\", \"Evening Watch\" ]\n",
    "    \n",
    "\n",
    "    \n",
    "    \n",
    "    \n",
    "})\n",
    "\n",
    "summary_findings_df"
   ]
  },
  {
   "cell_type": "code",
   "execution_count": 69,
   "id": "dc19499f",
   "metadata": {},
   "outputs": [
    {
     "data": {
      "text/html": [
       "<div>\n",
       "<style scoped>\n",
       "    .dataframe tbody tr th:only-of-type {\n",
       "        vertical-align: middle;\n",
       "    }\n",
       "\n",
       "    .dataframe tbody tr th {\n",
       "        vertical-align: top;\n",
       "    }\n",
       "\n",
       "    .dataframe thead th {\n",
       "        text-align: right;\n",
       "    }\n",
       "</style>\n",
       "<table border=\"1\" class=\"dataframe\">\n",
       "  <thead>\n",
       "    <tr style=\"text-align: right;\">\n",
       "      <th></th>\n",
       "      <th>Research Question</th>\n",
       "      <th>Findings</th>\n",
       "    </tr>\n",
       "  </thead>\n",
       "  <tbody>\n",
       "    <tr>\n",
       "      <th>0</th>\n",
       "      <td>Total number of crimes reported</td>\n",
       "      <td>342609</td>\n",
       "    </tr>\n",
       "  </tbody>\n",
       "</table>\n",
       "</div>"
      ],
      "text/plain": [
       "                 Research Question  Findings\n",
       "0  Total number of crimes reported    342609"
      ]
     },
     "execution_count": 69,
     "metadata": {},
     "output_type": "execute_result"
    }
   ],
   "source": [
    "summary1_findings_df = pd.DataFrame({\"Research Question\":[\"Total number of crimes reported\"],\n",
    "    \n",
    "                                    \"Findings\":[342609]\n",
    "    \n",
    "    \n",
    "})\n",
    "\n",
    "\n",
    "summary1_findings_df\n"
   ]
  },
  {
   "cell_type": "code",
   "execution_count": 70,
   "id": "7f429d39",
   "metadata": {},
   "outputs": [
    {
     "data": {
      "text/html": [
       "<div>\n",
       "<style scoped>\n",
       "    .dataframe tbody tr th:only-of-type {\n",
       "        vertical-align: middle;\n",
       "    }\n",
       "\n",
       "    .dataframe tbody tr th {\n",
       "        vertical-align: top;\n",
       "    }\n",
       "\n",
       "    .dataframe thead th {\n",
       "        text-align: right;\n",
       "    }\n",
       "</style>\n",
       "<table border=\"1\" class=\"dataframe\">\n",
       "  <thead>\n",
       "    <tr style=\"text-align: right;\">\n",
       "      <th></th>\n",
       "      <th>Research Question</th>\n",
       "      <th>Findings</th>\n",
       "    </tr>\n",
       "  </thead>\n",
       "  <tbody>\n",
       "    <tr>\n",
       "      <th>0</th>\n",
       "      <td>Total number of distinct crimes</td>\n",
       "      <td>11</td>\n",
       "    </tr>\n",
       "  </tbody>\n",
       "</table>\n",
       "</div>"
      ],
      "text/plain": [
       "                  Research Question  Findings\n",
       "0  Total number of distinct crimes         11"
      ]
     },
     "execution_count": 70,
     "metadata": {},
     "output_type": "execute_result"
    }
   ],
   "source": [
    "summary2_findings_df = pd.DataFrame({\"Research Question\":[\"Total number of distinct crimes \"],\n",
    "    \n",
    "                                    \"Findings\":[11]\n",
    "    \n",
    "    \n",
    "})\n",
    "\n",
    "\n",
    "summary2_findings_df\n"
   ]
  },
  {
   "cell_type": "code",
   "execution_count": null,
   "id": "7812d99b",
   "metadata": {},
   "outputs": [],
   "source": []
  },
  {
   "cell_type": "code",
   "execution_count": null,
   "id": "393ddd6b",
   "metadata": {},
   "outputs": [],
   "source": []
  }
 ],
 "metadata": {
  "kernelspec": {
   "display_name": "Python 3",
   "language": "python",
   "name": "python3"
  },
  "language_info": {
   "codemirror_mode": {
    "name": "ipython",
    "version": 3
   },
   "file_extension": ".py",
   "mimetype": "text/x-python",
   "name": "python",
   "nbconvert_exporter": "python",
   "pygments_lexer": "ipython3",
   "version": "3.8.8"
  }
 },
 "nbformat": 4,
 "nbformat_minor": 5
}
