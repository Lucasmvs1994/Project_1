{
 "cells": [
  {
   "cell_type": "code",
   "execution_count": 138,
   "id": "18f5a016",
   "metadata": {},
   "outputs": [],
   "source": [
    "# Dependencies\n",
    "import matplotlib.pyplot as plt\n",
    "import pandas as pd\n",
    "import scipy.stats as st\n",
    "from scipy.stats import linregress\n",
    "from scipy.stats import sem\n",
    "import numpy as np"
   ]
  },
  {
   "cell_type": "code",
   "execution_count": 139,
   "id": "4a4c4104",
   "metadata": {},
   "outputs": [],
   "source": [
    "# Save path to data set in a variable\n",
    "data_file = \"COBRA-2009-2019.csv\""
   ]
  },
  {
   "cell_type": "code",
   "execution_count": 140,
   "id": "1c949339",
   "metadata": {
    "scrolled": true
   },
   "outputs": [
    {
     "name": "stderr",
     "output_type": "stream",
     "text": [
      "/Users/dantdo/opt/anaconda3/lib/python3.8/site-packages/IPython/core/interactiveshell.py:3165: DtypeWarning: Columns (3,11) have mixed types.Specify dtype option on import or set low_memory=False.\n",
      "  has_raised = await self.run_ast_nodes(code_ast.body, cell_name,\n"
     ]
    },
    {
     "data": {
      "text/html": [
       "<div>\n",
       "<style scoped>\n",
       "    .dataframe tbody tr th:only-of-type {\n",
       "        vertical-align: middle;\n",
       "    }\n",
       "\n",
       "    .dataframe tbody tr th {\n",
       "        vertical-align: top;\n",
       "    }\n",
       "\n",
       "    .dataframe thead th {\n",
       "        text-align: right;\n",
       "    }\n",
       "</style>\n",
       "<table border=\"1\" class=\"dataframe\">\n",
       "  <thead>\n",
       "    <tr style=\"text-align: right;\">\n",
       "      <th></th>\n",
       "      <th>Report Number</th>\n",
       "      <th>Report Date</th>\n",
       "      <th>Occur Date</th>\n",
       "      <th>Occur Time</th>\n",
       "      <th>Possible Date</th>\n",
       "      <th>Possible Time</th>\n",
       "      <th>Beat</th>\n",
       "      <th>Apartment Office Prefix</th>\n",
       "      <th>Apartment Number</th>\n",
       "      <th>Location</th>\n",
       "      <th>Shift Occurence</th>\n",
       "      <th>Location Type</th>\n",
       "      <th>UCR Literal</th>\n",
       "      <th>UCR #</th>\n",
       "      <th>IBR Code</th>\n",
       "      <th>Neighborhood</th>\n",
       "      <th>NPU (Neighborhood Planning Units )</th>\n",
       "      <th>Latitude</th>\n",
       "      <th>Longitude</th>\n",
       "    </tr>\n",
       "  </thead>\n",
       "  <tbody>\n",
       "    <tr>\n",
       "      <th>0</th>\n",
       "      <td>90010930</td>\n",
       "      <td>1/1/09</td>\n",
       "      <td>1/1/09</td>\n",
       "      <td>1145</td>\n",
       "      <td>1/1/09</td>\n",
       "      <td>1148.0</td>\n",
       "      <td>411.0</td>\n",
       "      <td>NaN</td>\n",
       "      <td>NaN</td>\n",
       "      <td>2841 GREENBRIAR PKWY</td>\n",
       "      <td>Day Watch</td>\n",
       "      <td>8</td>\n",
       "      <td>LARCENY-NON VEHICLE</td>\n",
       "      <td>630</td>\n",
       "      <td>2303</td>\n",
       "      <td>Greenbriar</td>\n",
       "      <td>R</td>\n",
       "      <td>33.68845</td>\n",
       "      <td>-84.49328</td>\n",
       "    </tr>\n",
       "    <tr>\n",
       "      <th>1</th>\n",
       "      <td>90011083</td>\n",
       "      <td>1/1/09</td>\n",
       "      <td>1/1/09</td>\n",
       "      <td>1330</td>\n",
       "      <td>1/1/09</td>\n",
       "      <td>1330.0</td>\n",
       "      <td>511.0</td>\n",
       "      <td>NaN</td>\n",
       "      <td>NaN</td>\n",
       "      <td>12 BROAD ST SW</td>\n",
       "      <td>Day Watch</td>\n",
       "      <td>9</td>\n",
       "      <td>LARCENY-NON VEHICLE</td>\n",
       "      <td>630</td>\n",
       "      <td>2303</td>\n",
       "      <td>Downtown</td>\n",
       "      <td>M</td>\n",
       "      <td>33.75320</td>\n",
       "      <td>-84.39201</td>\n",
       "    </tr>\n",
       "    <tr>\n",
       "      <th>2</th>\n",
       "      <td>90011208</td>\n",
       "      <td>1/1/09</td>\n",
       "      <td>1/1/09</td>\n",
       "      <td>1500</td>\n",
       "      <td>1/1/09</td>\n",
       "      <td>1520.0</td>\n",
       "      <td>407.0</td>\n",
       "      <td>NaN</td>\n",
       "      <td>NaN</td>\n",
       "      <td>3500 MARTIN L KING JR DR SW</td>\n",
       "      <td>Unknown</td>\n",
       "      <td>8</td>\n",
       "      <td>LARCENY-NON VEHICLE</td>\n",
       "      <td>630</td>\n",
       "      <td>2303</td>\n",
       "      <td>Adamsville</td>\n",
       "      <td>H</td>\n",
       "      <td>33.75735</td>\n",
       "      <td>-84.50282</td>\n",
       "    </tr>\n",
       "    <tr>\n",
       "      <th>3</th>\n",
       "      <td>90011218</td>\n",
       "      <td>1/1/09</td>\n",
       "      <td>1/1/09</td>\n",
       "      <td>1450</td>\n",
       "      <td>1/1/09</td>\n",
       "      <td>1510.0</td>\n",
       "      <td>210.0</td>\n",
       "      <td>NaN</td>\n",
       "      <td>NaN</td>\n",
       "      <td>3393 PEACHTREE RD NE</td>\n",
       "      <td>Evening Watch</td>\n",
       "      <td>8</td>\n",
       "      <td>LARCENY-NON VEHICLE</td>\n",
       "      <td>630</td>\n",
       "      <td>2303</td>\n",
       "      <td>Lenox</td>\n",
       "      <td>B</td>\n",
       "      <td>33.84676</td>\n",
       "      <td>-84.36212</td>\n",
       "    </tr>\n",
       "    <tr>\n",
       "      <th>4</th>\n",
       "      <td>90011289</td>\n",
       "      <td>1/1/09</td>\n",
       "      <td>1/1/09</td>\n",
       "      <td>1600</td>\n",
       "      <td>1/1/09</td>\n",
       "      <td>1700.0</td>\n",
       "      <td>411.0</td>\n",
       "      <td>NaN</td>\n",
       "      <td>NaN</td>\n",
       "      <td>2841 GREENBRIAR PKWY SW</td>\n",
       "      <td>Unknown</td>\n",
       "      <td>8</td>\n",
       "      <td>LARCENY-NON VEHICLE</td>\n",
       "      <td>630</td>\n",
       "      <td>2303</td>\n",
       "      <td>Greenbriar</td>\n",
       "      <td>R</td>\n",
       "      <td>33.68677</td>\n",
       "      <td>-84.49773</td>\n",
       "    </tr>\n",
       "  </tbody>\n",
       "</table>\n",
       "</div>"
      ],
      "text/plain": [
       "   Report Number Report Date Occur Date Occur Time Possible Date  \\\n",
       "0       90010930      1/1/09     1/1/09       1145        1/1/09   \n",
       "1       90011083      1/1/09     1/1/09       1330        1/1/09   \n",
       "2       90011208      1/1/09     1/1/09       1500        1/1/09   \n",
       "3       90011218      1/1/09     1/1/09       1450        1/1/09   \n",
       "4       90011289      1/1/09     1/1/09       1600        1/1/09   \n",
       "\n",
       "   Possible Time   Beat Apartment Office Prefix Apartment Number  \\\n",
       "0         1148.0  411.0                     NaN              NaN   \n",
       "1         1330.0  511.0                     NaN              NaN   \n",
       "2         1520.0  407.0                     NaN              NaN   \n",
       "3         1510.0  210.0                     NaN              NaN   \n",
       "4         1700.0  411.0                     NaN              NaN   \n",
       "\n",
       "                      Location Shift Occurence Location Type  \\\n",
       "0         2841 GREENBRIAR PKWY       Day Watch             8   \n",
       "1               12 BROAD ST SW       Day Watch             9   \n",
       "2  3500 MARTIN L KING JR DR SW         Unknown             8   \n",
       "3         3393 PEACHTREE RD NE   Evening Watch             8   \n",
       "4      2841 GREENBRIAR PKWY SW         Unknown             8   \n",
       "\n",
       "           UCR Literal  UCR # IBR Code Neighborhood  \\\n",
       "0  LARCENY-NON VEHICLE    630     2303   Greenbriar   \n",
       "1  LARCENY-NON VEHICLE    630     2303     Downtown   \n",
       "2  LARCENY-NON VEHICLE    630     2303   Adamsville   \n",
       "3  LARCENY-NON VEHICLE    630     2303        Lenox   \n",
       "4  LARCENY-NON VEHICLE    630     2303   Greenbriar   \n",
       "\n",
       "  NPU (Neighborhood Planning Units )  Latitude  Longitude  \n",
       "0                                  R  33.68845  -84.49328  \n",
       "1                                  M  33.75320  -84.39201  \n",
       "2                                  H  33.75735  -84.50282  \n",
       "3                                  B  33.84676  -84.36212  \n",
       "4                                  R  33.68677  -84.49773  "
      ]
     },
     "execution_count": 140,
     "metadata": {},
     "output_type": "execute_result"
    }
   ],
   "source": [
    "# Use Pandas to read data\n",
    "data_file_df = pd.read_csv(data_file)\n",
    "data_file_df.head()"
   ]
  },
  {
   "cell_type": "code",
   "execution_count": 141,
   "id": "2aa10de9",
   "metadata": {},
   "outputs": [
    {
     "data": {
      "text/plain": [
       "Report Number                         342914\n",
       "Report Date                           342914\n",
       "Occur Date                            342914\n",
       "Occur Time                            342914\n",
       "Possible Date                         342896\n",
       "Possible Time                         342895\n",
       "Beat                                  342890\n",
       "Apartment Office Prefix                10094\n",
       "Apartment Number                       68274\n",
       "Location                              342912\n",
       "Shift Occurence                       342914\n",
       "Location Type                         333698\n",
       "UCR Literal                           342914\n",
       "UCR #                                 342914\n",
       "IBR Code                              342744\n",
       "Neighborhood                          330551\n",
       "NPU (Neighborhood Planning Units )    342775\n",
       "Latitude                              342914\n",
       "Longitude                             342914\n",
       "dtype: int64"
      ]
     },
     "execution_count": 141,
     "metadata": {},
     "output_type": "execute_result"
    }
   ],
   "source": [
    "data_file_df.count()"
   ]
  },
  {
   "cell_type": "code",
   "execution_count": 142,
   "id": "d05c84f7",
   "metadata": {
    "scrolled": true
   },
   "outputs": [
    {
     "data": {
      "text/html": [
       "<div>\n",
       "<style scoped>\n",
       "    .dataframe tbody tr th:only-of-type {\n",
       "        vertical-align: middle;\n",
       "    }\n",
       "\n",
       "    .dataframe tbody tr th {\n",
       "        vertical-align: top;\n",
       "    }\n",
       "\n",
       "    .dataframe thead th {\n",
       "        text-align: right;\n",
       "    }\n",
       "</style>\n",
       "<table border=\"1\" class=\"dataframe\">\n",
       "  <thead>\n",
       "    <tr style=\"text-align: right;\">\n",
       "      <th></th>\n",
       "      <th>Report Number</th>\n",
       "      <th>Possible Time</th>\n",
       "      <th>Beat</th>\n",
       "      <th>UCR #</th>\n",
       "      <th>Latitude</th>\n",
       "      <th>Longitude</th>\n",
       "    </tr>\n",
       "  </thead>\n",
       "  <tbody>\n",
       "    <tr>\n",
       "      <th>count</th>\n",
       "      <td>3.429140e+05</td>\n",
       "      <td>342895.000000</td>\n",
       "      <td>342890.000000</td>\n",
       "      <td>342914.000000</td>\n",
       "      <td>342914.000000</td>\n",
       "      <td>342914.000000</td>\n",
       "    </tr>\n",
       "    <tr>\n",
       "      <th>mean</th>\n",
       "      <td>1.375665e+08</td>\n",
       "      <td>1310.068065</td>\n",
       "      <td>365.391277</td>\n",
       "      <td>594.856463</td>\n",
       "      <td>33.757281</td>\n",
       "      <td>-84.407407</td>\n",
       "    </tr>\n",
       "    <tr>\n",
       "      <th>std</th>\n",
       "      <td>3.146330e+07</td>\n",
       "      <td>643.618899</td>\n",
       "      <td>170.580194</td>\n",
       "      <td>111.848817</td>\n",
       "      <td>0.044930</td>\n",
       "      <td>0.047112</td>\n",
       "    </tr>\n",
       "    <tr>\n",
       "      <th>min</th>\n",
       "      <td>6.104028e+07</td>\n",
       "      <td>0.000000</td>\n",
       "      <td>0.000000</td>\n",
       "      <td>110.000000</td>\n",
       "      <td>33.637500</td>\n",
       "      <td>-84.550500</td>\n",
       "    </tr>\n",
       "    <tr>\n",
       "      <th>25%</th>\n",
       "      <td>1.112706e+08</td>\n",
       "      <td>830.000000</td>\n",
       "      <td>209.000000</td>\n",
       "      <td>511.000000</td>\n",
       "      <td>33.730310</td>\n",
       "      <td>-84.432130</td>\n",
       "    </tr>\n",
       "    <tr>\n",
       "      <th>50%</th>\n",
       "      <td>1.331526e+08</td>\n",
       "      <td>1350.000000</td>\n",
       "      <td>402.000000</td>\n",
       "      <td>640.000000</td>\n",
       "      <td>33.756670</td>\n",
       "      <td>-84.396360</td>\n",
       "    </tr>\n",
       "    <tr>\n",
       "      <th>75%</th>\n",
       "      <td>1.625932e+08</td>\n",
       "      <td>1830.000000</td>\n",
       "      <td>507.000000</td>\n",
       "      <td>670.000000</td>\n",
       "      <td>33.781830</td>\n",
       "      <td>-84.373470</td>\n",
       "    </tr>\n",
       "    <tr>\n",
       "      <th>max</th>\n",
       "      <td>2.000724e+08</td>\n",
       "      <td>3015.000000</td>\n",
       "      <td>614.000000</td>\n",
       "      <td>730.000000</td>\n",
       "      <td>33.886130</td>\n",
       "      <td>-84.286410</td>\n",
       "    </tr>\n",
       "  </tbody>\n",
       "</table>\n",
       "</div>"
      ],
      "text/plain": [
       "       Report Number  Possible Time           Beat          UCR #  \\\n",
       "count   3.429140e+05  342895.000000  342890.000000  342914.000000   \n",
       "mean    1.375665e+08    1310.068065     365.391277     594.856463   \n",
       "std     3.146330e+07     643.618899     170.580194     111.848817   \n",
       "min     6.104028e+07       0.000000       0.000000     110.000000   \n",
       "25%     1.112706e+08     830.000000     209.000000     511.000000   \n",
       "50%     1.331526e+08    1350.000000     402.000000     640.000000   \n",
       "75%     1.625932e+08    1830.000000     507.000000     670.000000   \n",
       "max     2.000724e+08    3015.000000     614.000000     730.000000   \n",
       "\n",
       "            Latitude      Longitude  \n",
       "count  342914.000000  342914.000000  \n",
       "mean       33.757281     -84.407407  \n",
       "std         0.044930       0.047112  \n",
       "min        33.637500     -84.550500  \n",
       "25%        33.730310     -84.432130  \n",
       "50%        33.756670     -84.396360  \n",
       "75%        33.781830     -84.373470  \n",
       "max        33.886130     -84.286410  "
      ]
     },
     "execution_count": 142,
     "metadata": {},
     "output_type": "execute_result"
    }
   ],
   "source": [
    "# Display a statistical overview of the DataFrame\n",
    "data_file_df.describe()"
   ]
  },
  {
   "cell_type": "code",
   "execution_count": 143,
   "id": "2c456a3b",
   "metadata": {},
   "outputs": [
    {
     "data": {
      "text/plain": [
       "Index(['Report Number', 'Report Date', 'Occur Date', 'Occur Time',\n",
       "       'Possible Date', 'Possible Time', 'Beat', 'Apartment Office Prefix',\n",
       "       'Apartment Number', 'Location', 'Shift Occurence', 'Location Type',\n",
       "       'UCR Literal', 'UCR #', 'IBR Code', 'Neighborhood',\n",
       "       'NPU (Neighborhood Planning Units )', 'Latitude', 'Longitude'],\n",
       "      dtype='object')"
      ]
     },
     "execution_count": 143,
     "metadata": {},
     "output_type": "execute_result"
    }
   ],
   "source": [
    "# Collecting a list of all columns within the DataFrame\n",
    "data_file_df.columns"
   ]
  },
  {
   "cell_type": "code",
   "execution_count": 144,
   "id": "7587a995",
   "metadata": {},
   "outputs": [
    {
     "data": {
      "text/html": [
       "<div>\n",
       "<style scoped>\n",
       "    .dataframe tbody tr th:only-of-type {\n",
       "        vertical-align: middle;\n",
       "    }\n",
       "\n",
       "    .dataframe tbody tr th {\n",
       "        vertical-align: top;\n",
       "    }\n",
       "\n",
       "    .dataframe thead th {\n",
       "        text-align: right;\n",
       "    }\n",
       "</style>\n",
       "<table border=\"1\" class=\"dataframe\">\n",
       "  <thead>\n",
       "    <tr style=\"text-align: right;\">\n",
       "      <th></th>\n",
       "      <th>Report Number</th>\n",
       "      <th>Report Date</th>\n",
       "      <th>Location</th>\n",
       "      <th>UCR Literal</th>\n",
       "      <th>Neighborhood</th>\n",
       "      <th>Latitude</th>\n",
       "      <th>Longitude</th>\n",
       "    </tr>\n",
       "  </thead>\n",
       "  <tbody>\n",
       "    <tr>\n",
       "      <th>0</th>\n",
       "      <td>90010930</td>\n",
       "      <td>1/1/09</td>\n",
       "      <td>2841 GREENBRIAR PKWY</td>\n",
       "      <td>LARCENY-NON VEHICLE</td>\n",
       "      <td>Greenbriar</td>\n",
       "      <td>33.68845</td>\n",
       "      <td>-84.49328</td>\n",
       "    </tr>\n",
       "    <tr>\n",
       "      <th>1</th>\n",
       "      <td>90011083</td>\n",
       "      <td>1/1/09</td>\n",
       "      <td>12 BROAD ST SW</td>\n",
       "      <td>LARCENY-NON VEHICLE</td>\n",
       "      <td>Downtown</td>\n",
       "      <td>33.75320</td>\n",
       "      <td>-84.39201</td>\n",
       "    </tr>\n",
       "    <tr>\n",
       "      <th>2</th>\n",
       "      <td>90011208</td>\n",
       "      <td>1/1/09</td>\n",
       "      <td>3500 MARTIN L KING JR DR SW</td>\n",
       "      <td>LARCENY-NON VEHICLE</td>\n",
       "      <td>Adamsville</td>\n",
       "      <td>33.75735</td>\n",
       "      <td>-84.50282</td>\n",
       "    </tr>\n",
       "    <tr>\n",
       "      <th>3</th>\n",
       "      <td>90011218</td>\n",
       "      <td>1/1/09</td>\n",
       "      <td>3393 PEACHTREE RD NE</td>\n",
       "      <td>LARCENY-NON VEHICLE</td>\n",
       "      <td>Lenox</td>\n",
       "      <td>33.84676</td>\n",
       "      <td>-84.36212</td>\n",
       "    </tr>\n",
       "    <tr>\n",
       "      <th>4</th>\n",
       "      <td>90011289</td>\n",
       "      <td>1/1/09</td>\n",
       "      <td>2841 GREENBRIAR PKWY SW</td>\n",
       "      <td>LARCENY-NON VEHICLE</td>\n",
       "      <td>Greenbriar</td>\n",
       "      <td>33.68677</td>\n",
       "      <td>-84.49773</td>\n",
       "    </tr>\n",
       "  </tbody>\n",
       "</table>\n",
       "</div>"
      ],
      "text/plain": [
       "   Report Number Report Date                     Location  \\\n",
       "0       90010930      1/1/09         2841 GREENBRIAR PKWY   \n",
       "1       90011083      1/1/09               12 BROAD ST SW   \n",
       "2       90011208      1/1/09  3500 MARTIN L KING JR DR SW   \n",
       "3       90011218      1/1/09         3393 PEACHTREE RD NE   \n",
       "4       90011289      1/1/09      2841 GREENBRIAR PKWY SW   \n",
       "\n",
       "           UCR Literal Neighborhood  Latitude  Longitude  \n",
       "0  LARCENY-NON VEHICLE   Greenbriar  33.68845  -84.49328  \n",
       "1  LARCENY-NON VEHICLE     Downtown  33.75320  -84.39201  \n",
       "2  LARCENY-NON VEHICLE   Adamsville  33.75735  -84.50282  \n",
       "3  LARCENY-NON VEHICLE        Lenox  33.84676  -84.36212  \n",
       "4  LARCENY-NON VEHICLE   Greenbriar  33.68677  -84.49773  "
      ]
     },
     "execution_count": 144,
     "metadata": {},
     "output_type": "execute_result"
    }
   ],
   "source": [
    "# Delete extraneous column\n",
    "data_file_df = data_file_df.drop(columns=['Occur Time', 'Occur Date',\n",
    "       'Possible Date', 'Possible Time', 'Beat', 'Apartment Office Prefix',\n",
    "       'Apartment Number', 'Shift Occurence', 'Location Type', 'UCR #', 'IBR Code',\n",
    "       'NPU (Neighborhood Planning Units )'])\n",
    "data_file_df.head()"
   ]
  },
  {
   "cell_type": "code",
   "execution_count": 145,
   "id": "127ac106",
   "metadata": {},
   "outputs": [
    {
     "data": {
      "text/plain": [
       "Report Number    342914\n",
       "Report Date      342914\n",
       "Location         342912\n",
       "UCR Literal      342914\n",
       "Neighborhood     330551\n",
       "Latitude         342914\n",
       "Longitude        342914\n",
       "dtype: int64"
      ]
     },
     "execution_count": 145,
     "metadata": {},
     "output_type": "execute_result"
    }
   ],
   "source": [
    "data_file_df.count()"
   ]
  },
  {
   "cell_type": "code",
   "execution_count": 146,
   "id": "188dde96",
   "metadata": {},
   "outputs": [
    {
     "data": {
      "text/plain": [
       "Report Number      int64\n",
       "Report Date       object\n",
       "Location          object\n",
       "UCR Literal       object\n",
       "Neighborhood      object\n",
       "Latitude         float64\n",
       "Longitude        float64\n",
       "dtype: object"
      ]
     },
     "execution_count": 146,
     "metadata": {},
     "output_type": "execute_result"
    }
   ],
   "source": [
    "data_file_df.dtypes"
   ]
  },
  {
   "cell_type": "code",
   "execution_count": 147,
   "id": "1fea7bba",
   "metadata": {},
   "outputs": [],
   "source": [
    "# convert string to date column\n",
    "data_file_df['Report Date']= pd.to_datetime(data_file_df['Report Date'])"
   ]
  },
  {
   "cell_type": "code",
   "execution_count": 148,
   "id": "d03d692a",
   "metadata": {
    "scrolled": true
   },
   "outputs": [
    {
     "data": {
      "text/plain": [
       "Report Number    39395\n",
       "Report Date      39395\n",
       "Location         39395\n",
       "UCR Literal      39395\n",
       "Neighborhood     38096\n",
       "Latitude         39395\n",
       "Longitude        39395\n",
       "dtype: int64"
      ]
     },
     "execution_count": 148,
     "metadata": {},
     "output_type": "execute_result"
    }
   ],
   "source": [
    "df_2009 = data_file_df.loc[(data_file_df['Report Date'] >= '1/1/09') & (data_file_df['Report Date'] <= '12/31/09')]\n",
    "df_2009.head()\n",
    "df_2009.count()"
   ]
  },
  {
   "cell_type": "code",
   "execution_count": 149,
   "id": "0f700175",
   "metadata": {},
   "outputs": [
    {
     "data": {
      "text/plain": [
       "Report Number    35500\n",
       "Report Date      35500\n",
       "Location         35500\n",
       "UCR Literal      35500\n",
       "Neighborhood     34236\n",
       "Latitude         35500\n",
       "Longitude        35500\n",
       "dtype: int64"
      ]
     },
     "execution_count": 149,
     "metadata": {},
     "output_type": "execute_result"
    }
   ],
   "source": [
    "df_2010 = data_file_df.loc[(data_file_df['Report Date'] >= '1/1/10') & (data_file_df['Report Date'] <= '12/31/10')]\n",
    "df_2010.head()\n",
    "df_2010.count()"
   ]
  },
  {
   "cell_type": "code",
   "execution_count": 150,
   "id": "886395a9",
   "metadata": {},
   "outputs": [
    {
     "data": {
      "text/plain": [
       "Report Number    34871\n",
       "Report Date      34871\n",
       "Location         34871\n",
       "UCR Literal      34871\n",
       "Neighborhood     33565\n",
       "Latitude         34871\n",
       "Longitude        34871\n",
       "dtype: int64"
      ]
     },
     "execution_count": 150,
     "metadata": {},
     "output_type": "execute_result"
    }
   ],
   "source": [
    "df_2011 = data_file_df.loc[(data_file_df['Report Date'] >= '1/1/11') & (data_file_df['Report Date'] <= '12/31/11')]\n",
    "df_2011.head()\n",
    "df_2011.count()"
   ]
  },
  {
   "cell_type": "code",
   "execution_count": 151,
   "id": "57bbd7f1",
   "metadata": {},
   "outputs": [
    {
     "data": {
      "text/plain": [
       "Report Number    33405\n",
       "Report Date      33405\n",
       "Location         33405\n",
       "UCR Literal      33405\n",
       "Neighborhood     32125\n",
       "Latitude         33405\n",
       "Longitude        33405\n",
       "dtype: int64"
      ]
     },
     "execution_count": 151,
     "metadata": {},
     "output_type": "execute_result"
    }
   ],
   "source": [
    "df_2012 = data_file_df.loc[(data_file_df['Report Date'] >= '1/1/12') & (data_file_df['Report Date'] <= '12/31/12')]\n",
    "df_2012.head()\n",
    "df_2012.count()"
   ]
  },
  {
   "cell_type": "code",
   "execution_count": 152,
   "id": "839771a8",
   "metadata": {},
   "outputs": [
    {
     "data": {
      "text/plain": [
       "Report Number    32439\n",
       "Report Date      32439\n",
       "Location         32438\n",
       "UCR Literal      32439\n",
       "Neighborhood     31351\n",
       "Latitude         32439\n",
       "Longitude        32439\n",
       "dtype: int64"
      ]
     },
     "execution_count": 152,
     "metadata": {},
     "output_type": "execute_result"
    }
   ],
   "source": [
    "df_2013 = data_file_df.loc[(data_file_df['Report Date'] >= '1/1/13') & (data_file_df['Report Date'] <= '12/31/13')]\n",
    "df_2013.head()\n",
    "df_2013.count()"
   ]
  },
  {
   "cell_type": "code",
   "execution_count": 153,
   "id": "5cdba03c",
   "metadata": {},
   "outputs": [
    {
     "data": {
      "text/plain": [
       "Report Number    31128\n",
       "Report Date      31128\n",
       "Location         31128\n",
       "UCR Literal      31128\n",
       "Neighborhood     30051\n",
       "Latitude         31128\n",
       "Longitude        31128\n",
       "dtype: int64"
      ]
     },
     "execution_count": 153,
     "metadata": {},
     "output_type": "execute_result"
    }
   ],
   "source": [
    "df_2014 = data_file_df.loc[(data_file_df['Report Date'] >= '1/1/14') & (data_file_df['Report Date'] <= '12/31/14')]\n",
    "df_2014.head()\n",
    "df_2014.count()"
   ]
  },
  {
   "cell_type": "code",
   "execution_count": 154,
   "id": "2265ddb4",
   "metadata": {},
   "outputs": [
    {
     "data": {
      "text/plain": [
       "Report Number    30087\n",
       "Report Date      30087\n",
       "Location         30086\n",
       "UCR Literal      30087\n",
       "Neighborhood     28962\n",
       "Latitude         30087\n",
       "Longitude        30087\n",
       "dtype: int64"
      ]
     },
     "execution_count": 154,
     "metadata": {},
     "output_type": "execute_result"
    }
   ],
   "source": [
    "df_2015 = data_file_df.loc[(data_file_df['Report Date'] >= '1/1/15') & (data_file_df['Report Date'] <= '12/31/15')]\n",
    "df_2015.head()\n",
    "df_2015.count()"
   ]
  },
  {
   "cell_type": "code",
   "execution_count": 155,
   "id": "30136bea",
   "metadata": {},
   "outputs": [
    {
     "data": {
      "text/plain": [
       "Report Number    29022\n",
       "Report Date      29022\n",
       "Location         29022\n",
       "UCR Literal      29022\n",
       "Neighborhood     27879\n",
       "Latitude         29022\n",
       "Longitude        29022\n",
       "dtype: int64"
      ]
     },
     "execution_count": 155,
     "metadata": {},
     "output_type": "execute_result"
    }
   ],
   "source": [
    "df_2016 = data_file_df.loc[(data_file_df['Report Date'] >= '1/1/16') & (data_file_df['Report Date'] <= '12/31/16')]\n",
    "df_2016.head()\n",
    "df_2016.count()"
   ]
  },
  {
   "cell_type": "code",
   "execution_count": 156,
   "id": "1304df80",
   "metadata": {},
   "outputs": [
    {
     "data": {
      "text/plain": [
       "Report Number    26410\n",
       "Report Date      26410\n",
       "Location         26410\n",
       "UCR Literal      26410\n",
       "Neighborhood     25470\n",
       "Latitude         26410\n",
       "Longitude        26410\n",
       "dtype: int64"
      ]
     },
     "execution_count": 156,
     "metadata": {},
     "output_type": "execute_result"
    }
   ],
   "source": [
    "df_2017 = data_file_df.loc[(data_file_df['Report Date'] >= '1/1/17') & (data_file_df['Report Date'] <= '12/31/17')]\n",
    "df_2017.head()\n",
    "df_2017.count()"
   ]
  },
  {
   "cell_type": "code",
   "execution_count": 157,
   "id": "b7853103",
   "metadata": {},
   "outputs": [
    {
     "data": {
      "text/plain": [
       "Report Number    25627\n",
       "Report Date      25627\n",
       "Location         25627\n",
       "UCR Literal      25627\n",
       "Neighborhood     24714\n",
       "Latitude         25627\n",
       "Longitude        25627\n",
       "dtype: int64"
      ]
     },
     "execution_count": 157,
     "metadata": {},
     "output_type": "execute_result"
    }
   ],
   "source": [
    "df_2018 = data_file_df.loc[(data_file_df['Report Date'] >= '1/1/18') & (data_file_df['Report Date'] <= '12/31/18')]\n",
    "df_2018.head()\n",
    "df_2018.count()"
   ]
  },
  {
   "cell_type": "code",
   "execution_count": 158,
   "id": "712de0a6",
   "metadata": {},
   "outputs": [
    {
     "data": {
      "text/plain": [
       "Report Number    25030\n",
       "Report Date      25030\n",
       "Location         25030\n",
       "UCR Literal      25030\n",
       "Neighborhood     24102\n",
       "Latitude         25030\n",
       "Longitude        25030\n",
       "dtype: int64"
      ]
     },
     "execution_count": 158,
     "metadata": {},
     "output_type": "execute_result"
    }
   ],
   "source": [
    "df_2019 = data_file_df.loc[(data_file_df['Report Date'] >= '1/1/19') & (data_file_df['Report Date'] <= '12/31/19')]\n",
    "df_2019.head()\n",
    "df_2019.count()"
   ]
  },
  {
   "cell_type": "code",
   "execution_count": 159,
   "id": "7611455d",
   "metadata": {},
   "outputs": [
    {
     "name": "stdout",
     "output_type": "stream",
     "text": [
      "(39395, 7)\n",
      "(35500, 7)\n",
      "(34871, 7)\n",
      "(33405, 7)\n",
      "(32439, 7)\n",
      "(31128, 7)\n",
      "(30087, 7)\n",
      "(29022, 7)\n",
      "(26410, 7)\n",
      "(25627, 7)\n",
      "(25030, 7)\n"
     ]
    }
   ],
   "source": [
    "print(df_2009.shape)\n",
    "print(df_2010.shape)\n",
    "print(df_2011.shape)\n",
    "print(df_2012.shape)\n",
    "print(df_2013.shape)\n",
    "print(df_2014.shape)\n",
    "print(df_2015.shape)\n",
    "print(df_2016.shape)\n",
    "print(df_2017.shape)\n",
    "print(df_2018.shape)\n",
    "print(df_2019.shape)"
   ]
  },
  {
   "cell_type": "code",
   "execution_count": 160,
   "id": "e7b9e90d",
   "metadata": {},
   "outputs": [
    {
     "data": {
      "text/html": [
       "<div>\n",
       "<style scoped>\n",
       "    .dataframe tbody tr th:only-of-type {\n",
       "        vertical-align: middle;\n",
       "    }\n",
       "\n",
       "    .dataframe tbody tr th {\n",
       "        vertical-align: top;\n",
       "    }\n",
       "\n",
       "    .dataframe thead th {\n",
       "        text-align: right;\n",
       "    }\n",
       "</style>\n",
       "<table border=\"1\" class=\"dataframe\">\n",
       "  <thead>\n",
       "    <tr style=\"text-align: right;\">\n",
       "      <th></th>\n",
       "      <th>2009</th>\n",
       "      <th>2010</th>\n",
       "      <th>2011</th>\n",
       "      <th>2012</th>\n",
       "      <th>2013</th>\n",
       "      <th>2014</th>\n",
       "      <th>2015</th>\n",
       "      <th>2016</th>\n",
       "      <th>2017</th>\n",
       "      <th>2018</th>\n",
       "      <th>2019</th>\n",
       "    </tr>\n",
       "  </thead>\n",
       "  <tbody>\n",
       "    <tr>\n",
       "      <th>0</th>\n",
       "      <td>39395</td>\n",
       "      <td>35500</td>\n",
       "      <td>34871</td>\n",
       "      <td>33405</td>\n",
       "      <td>32439</td>\n",
       "      <td>31128</td>\n",
       "      <td>30087</td>\n",
       "      <td>29022</td>\n",
       "      <td>26410</td>\n",
       "      <td>25627</td>\n",
       "      <td>25030</td>\n",
       "    </tr>\n",
       "  </tbody>\n",
       "</table>\n",
       "</div>"
      ],
      "text/plain": [
       "    2009   2010   2011   2012   2013   2014   2015   2016   2017   2018   2019\n",
       "0  39395  35500  34871  33405  32439  31128  30087  29022  26410  25627  25030"
      ]
     },
     "execution_count": 160,
     "metadata": {},
     "output_type": "execute_result"
    }
   ],
   "source": [
    "data_df = pd.DataFrame(\n",
    "    {\"2009\": [df_2009.shape[0]],\n",
    "     \"2010\": [df_2010.shape[0]],\n",
    "     \"2011\": [df_2011.shape[0]],\n",
    "     \"2012\": [df_2012.shape[0]],\n",
    "     \"2013\": [df_2013.shape[0]],\n",
    "     \"2014\": [df_2014.shape[0]],\n",
    "     \"2015\": [df_2015.shape[0]],\n",
    "     \"2016\": [df_2016.shape[0]],\n",
    "     \"2017\": [df_2017.shape[0]],\n",
    "     \"2018\": [df_2018.shape[0]],\n",
    "     \"2019\": [df_2019.shape[0]],\n",
    "    }\n",
    ")\n",
    "data_df"
   ]
  },
  {
   "cell_type": "code",
   "execution_count": 115,
   "id": "e53e1ca8",
   "metadata": {},
   "outputs": [
    {
     "name": "stdout",
     "output_type": "stream",
     "text": [
      "The year with the fewest crimes is 2019 - 25030 cases.\n"
     ]
    }
   ],
   "source": [
    "fewest = df_2019.shape[0]\n",
    "print(f\"The year with the fewest crimes is 2019 - {fewest} cases.\") "
   ]
  },
  {
   "cell_type": "code",
   "execution_count": 117,
   "id": "159a30ae",
   "metadata": {},
   "outputs": [],
   "source": [
    "neighborhood_group = data_file_df.groupby('Neighborhood')"
   ]
  },
  {
   "cell_type": "code",
   "execution_count": 118,
   "id": "055fd73d",
   "metadata": {},
   "outputs": [
    {
     "data": {
      "text/html": [
       "<div>\n",
       "<style scoped>\n",
       "    .dataframe tbody tr th:only-of-type {\n",
       "        vertical-align: middle;\n",
       "    }\n",
       "\n",
       "    .dataframe tbody tr th {\n",
       "        vertical-align: top;\n",
       "    }\n",
       "\n",
       "    .dataframe thead th {\n",
       "        text-align: right;\n",
       "    }\n",
       "</style>\n",
       "<table border=\"1\" class=\"dataframe\">\n",
       "  <thead>\n",
       "    <tr style=\"text-align: right;\">\n",
       "      <th></th>\n",
       "      <th>Total Count</th>\n",
       "    </tr>\n",
       "    <tr>\n",
       "      <th>Neighborhood</th>\n",
       "      <th></th>\n",
       "    </tr>\n",
       "  </thead>\n",
       "  <tbody>\n",
       "    <tr>\n",
       "      <th>Downtown</th>\n",
       "      <td>25386</td>\n",
       "    </tr>\n",
       "    <tr>\n",
       "      <th>Midtown</th>\n",
       "      <td>18240</td>\n",
       "    </tr>\n",
       "    <tr>\n",
       "      <th>Old Fourth Ward</th>\n",
       "      <td>9945</td>\n",
       "    </tr>\n",
       "    <tr>\n",
       "      <th>West End</th>\n",
       "      <td>8506</td>\n",
       "    </tr>\n",
       "    <tr>\n",
       "      <th>Lenox</th>\n",
       "      <td>6203</td>\n",
       "    </tr>\n",
       "    <tr>\n",
       "      <th>...</th>\n",
       "      <td>...</td>\n",
       "    </tr>\n",
       "    <tr>\n",
       "      <th>Mt. Paran Parkway</th>\n",
       "      <td>12</td>\n",
       "    </tr>\n",
       "    <tr>\n",
       "      <th>Old Fairburn Village</th>\n",
       "      <td>11</td>\n",
       "    </tr>\n",
       "    <tr>\n",
       "      <th>Edmund Park</th>\n",
       "      <td>7</td>\n",
       "    </tr>\n",
       "    <tr>\n",
       "      <th>State Facility</th>\n",
       "      <td>5</td>\n",
       "    </tr>\n",
       "    <tr>\n",
       "      <th>Englewood Manor</th>\n",
       "      <td>2</td>\n",
       "    </tr>\n",
       "  </tbody>\n",
       "</table>\n",
       "<p>243 rows × 1 columns</p>\n",
       "</div>"
      ],
      "text/plain": [
       "                      Total Count\n",
       "Neighborhood                     \n",
       "Downtown                    25386\n",
       "Midtown                     18240\n",
       "Old Fourth Ward              9945\n",
       "West End                     8506\n",
       "Lenox                        6203\n",
       "...                           ...\n",
       "Mt. Paran Parkway              12\n",
       "Old Fairburn Village           11\n",
       "Edmund Park                     7\n",
       "State Facility                  5\n",
       "Englewood Manor                 2\n",
       "\n",
       "[243 rows x 1 columns]"
      ]
     },
     "execution_count": 118,
     "metadata": {},
     "output_type": "execute_result"
    }
   ],
   "source": [
    "neighborhood_group_df = pd.DataFrame({\"Total Count\": neighborhood_group[\"Report Number\"].count()})\n",
    "neighborhood_group_sorted_df = neighborhood_group_df.sort_values(\"Total Count\", ascending=False)\n",
    "neighborhood_group_sorted_df"
   ]
  },
  {
   "cell_type": "code",
   "execution_count": 123,
   "id": "ad1f2d6f",
   "metadata": {
    "scrolled": true
   },
   "outputs": [
    {
     "name": "stdout",
     "output_type": "stream",
     "text": [
      "The neighborhood with the most crimes from 2009 to 2019 is Downtown - 25386 cases.\n",
      "The neighborhood with the fewest crimes from 2009 to 2019 is Englewood Manor - 2 cases.\n"
     ]
    }
   ],
   "source": [
    "print(f\"The neighborhood with the most crimes from 2009 to 2019 is Downtown - 25386 cases.\")\n",
    "print(f\"The neighborhood with the fewest crimes from 2009 to 2019 is Englewood Manor - 2 cases.\")"
   ]
  },
  {
   "cell_type": "code",
   "execution_count": 128,
   "id": "60131e5e",
   "metadata": {},
   "outputs": [
    {
     "data": {
      "text/html": [
       "<div>\n",
       "<style scoped>\n",
       "    .dataframe tbody tr th:only-of-type {\n",
       "        vertical-align: middle;\n",
       "    }\n",
       "\n",
       "    .dataframe tbody tr th {\n",
       "        vertical-align: top;\n",
       "    }\n",
       "\n",
       "    .dataframe thead th {\n",
       "        text-align: right;\n",
       "    }\n",
       "</style>\n",
       "<table border=\"1\" class=\"dataframe\">\n",
       "  <thead>\n",
       "    <tr style=\"text-align: right;\">\n",
       "      <th></th>\n",
       "      <th>Total Count</th>\n",
       "    </tr>\n",
       "    <tr>\n",
       "      <th>Neighborhood</th>\n",
       "      <th></th>\n",
       "    </tr>\n",
       "  </thead>\n",
       "  <tbody>\n",
       "    <tr>\n",
       "      <th>Downtown</th>\n",
       "      <td>25386</td>\n",
       "    </tr>\n",
       "    <tr>\n",
       "      <th>Midtown</th>\n",
       "      <td>18240</td>\n",
       "    </tr>\n",
       "    <tr>\n",
       "      <th>Old Fourth Ward</th>\n",
       "      <td>9945</td>\n",
       "    </tr>\n",
       "    <tr>\n",
       "      <th>West End</th>\n",
       "      <td>8506</td>\n",
       "    </tr>\n",
       "    <tr>\n",
       "      <th>Lenox</th>\n",
       "      <td>6203</td>\n",
       "    </tr>\n",
       "    <tr>\n",
       "      <th>North Buckhead</th>\n",
       "      <td>5651</td>\n",
       "    </tr>\n",
       "    <tr>\n",
       "      <th>Vine City</th>\n",
       "      <td>5506</td>\n",
       "    </tr>\n",
       "    <tr>\n",
       "      <th>Greenbriar</th>\n",
       "      <td>5487</td>\n",
       "    </tr>\n",
       "    <tr>\n",
       "      <th>Sylvan Hills</th>\n",
       "      <td>5451</td>\n",
       "    </tr>\n",
       "    <tr>\n",
       "      <th>Grant Park</th>\n",
       "      <td>5293</td>\n",
       "    </tr>\n",
       "  </tbody>\n",
       "</table>\n",
       "</div>"
      ],
      "text/plain": [
       "                 Total Count\n",
       "Neighborhood                \n",
       "Downtown               25386\n",
       "Midtown                18240\n",
       "Old Fourth Ward         9945\n",
       "West End                8506\n",
       "Lenox                   6203\n",
       "North Buckhead          5651\n",
       "Vine City               5506\n",
       "Greenbriar              5487\n",
       "Sylvan Hills            5451\n",
       "Grant Park              5293"
      ]
     },
     "execution_count": 128,
     "metadata": {},
     "output_type": "execute_result"
    }
   ],
   "source": [
    "neighborhood_top10_df = neighborhood_group_sorted_df.head(10)\n",
    "neighborhood_top10_df"
   ]
  },
  {
   "cell_type": "code",
   "execution_count": 134,
   "id": "551772e7",
   "metadata": {},
   "outputs": [
    {
     "data": {
      "text/plain": [
       "Text(0.5, 1.0, 'Top 10 dangerous neighborhoods in Atlanta')"
      ]
     },
     "execution_count": 134,
     "metadata": {},
     "output_type": "execute_result"
    },
    {
     "data": {
      "image/png": "[encoded data removed]",
      "text/plain": [
       "<Figure size 432x288 with 1 Axes>"
      ]
     },
     "metadata": {
      "needs_background": "light"
     },
     "output_type": "display_data"
    }
   ],
   "source": [
    "bar_plot = neighborhood_top10_df['Total Count'].plot.bar(width = 0.5, zorder = 3)\n",
    "bar_plot.set_xlabel(\"Neighborhood\")\n",
    "bar_plot.set_ylabel(\"Crimes Count\")\n",
    "bar_plot.set_title(\"Top 10 dangerous neighborhoods in Atlanta\")      "
   ]
  },
  {
   "cell_type": "code",
   "execution_count": 132,
   "id": "3e4e9687",
   "metadata": {},
   "outputs": [
    {
     "data": {
      "text/html": [
       "<div>\n",
       "<style scoped>\n",
       "    .dataframe tbody tr th:only-of-type {\n",
       "        vertical-align: middle;\n",
       "    }\n",
       "\n",
       "    .dataframe tbody tr th {\n",
       "        vertical-align: top;\n",
       "    }\n",
       "\n",
       "    .dataframe thead th {\n",
       "        text-align: right;\n",
       "    }\n",
       "</style>\n",
       "<table border=\"1\" class=\"dataframe\">\n",
       "  <thead>\n",
       "    <tr style=\"text-align: right;\">\n",
       "      <th></th>\n",
       "      <th>Total Count</th>\n",
       "    </tr>\n",
       "    <tr>\n",
       "      <th>Neighborhood</th>\n",
       "      <th></th>\n",
       "    </tr>\n",
       "  </thead>\n",
       "  <tbody>\n",
       "    <tr>\n",
       "      <th>Fort McPherson</th>\n",
       "      <td>32</td>\n",
       "    </tr>\n",
       "    <tr>\n",
       "      <th>Bankhead Courts</th>\n",
       "      <td>30</td>\n",
       "    </tr>\n",
       "    <tr>\n",
       "      <th>Horseshoe Community</th>\n",
       "      <td>25</td>\n",
       "    </tr>\n",
       "    <tr>\n",
       "      <th>Regency Trace</th>\n",
       "      <td>20</td>\n",
       "    </tr>\n",
       "    <tr>\n",
       "      <th>Chattahoochee</th>\n",
       "      <td>14</td>\n",
       "    </tr>\n",
       "    <tr>\n",
       "      <th>Mt. Paran Parkway</th>\n",
       "      <td>12</td>\n",
       "    </tr>\n",
       "    <tr>\n",
       "      <th>Old Fairburn Village</th>\n",
       "      <td>11</td>\n",
       "    </tr>\n",
       "    <tr>\n",
       "      <th>Edmund Park</th>\n",
       "      <td>7</td>\n",
       "    </tr>\n",
       "    <tr>\n",
       "      <th>State Facility</th>\n",
       "      <td>5</td>\n",
       "    </tr>\n",
       "    <tr>\n",
       "      <th>Englewood Manor</th>\n",
       "      <td>2</td>\n",
       "    </tr>\n",
       "  </tbody>\n",
       "</table>\n",
       "</div>"
      ],
      "text/plain": [
       "                      Total Count\n",
       "Neighborhood                     \n",
       "Fort McPherson                 32\n",
       "Bankhead Courts                30\n",
       "Horseshoe Community            25\n",
       "Regency Trace                  20\n",
       "Chattahoochee                  14\n",
       "Mt. Paran Parkway              12\n",
       "Old Fairburn Village           11\n",
       "Edmund Park                     7\n",
       "State Facility                  5\n",
       "Englewood Manor                 2"
      ]
     },
     "execution_count": 132,
     "metadata": {},
     "output_type": "execute_result"
    }
   ],
   "source": [
    "neighborhood_top10least_df = neighborhood_group_sorted_df.tail(10)\n",
    "neighborhood_top10least_df"
   ]
  },
  {
   "cell_type": "code",
   "execution_count": 135,
   "id": "354f1f68",
   "metadata": {},
   "outputs": [
    {
     "data": {
      "text/plain": [
       "Text(0.5, 1.0, 'Top 10 neighborhoods with the least crimes in Atlanta')"
      ]
     },
     "execution_count": 135,
     "metadata": {},
     "output_type": "execute_result"
    },
    {
     "data": {
      "image/png": "[encoded data removed]",
      "text/plain": [
       "<Figure size 432x288 with 1 Axes>"
      ]
     },
     "metadata": {
      "needs_background": "light"
     },
     "output_type": "display_data"
    }
   ],
   "source": [
    "bar_plot = neighborhood_top10least_df['Total Count'].plot.bar(width = 0.5, zorder = 3)\n",
    "bar_plot.set_xlabel(\"Neighborhood\")\n",
    "bar_plot.set_ylabel(\"Crimes Count\")\n",
    "bar_plot.set_title(\"Top 10 neighborhoods with the least crimes in Atlanta\")   "
   ]
  },
  {
   "cell_type": "code",
   "execution_count": null,
   "id": "c9413546",
   "metadata": {},
   "outputs": [],
   "source": []
  }
 ],
 "metadata": {
  "kernelspec": {
   "display_name": "Python 3",
   "language": "python",
   "name": "python3"
  },
  "language_info": {
   "codemirror_mode": {
    "name": "ipython",
    "version": 3
   },
   "file_extension": ".py",
   "mimetype": "text/x-python",
   "name": "python",
   "nbconvert_exporter": "python",
   "pygments_lexer": "ipython3",
   "version": "3.8.8"
  }
 },
 "nbformat": 4,
 "nbformat_minor": 5
}
